{
 "cells": [
  {
   "cell_type": "code",
   "execution_count": 1,
   "id": "2b6b3c24",
   "metadata": {},
   "outputs": [],
   "source": [
    "import pandas as pd\n",
    "import numpy as np\n",
    "\n",
    "from sklearn.datasets import load_diabetes\n",
    "from sklearn.model_selection import cross_val_score\n",
    "from sklearn.tree import DecisionTreeRegressor\n",
    "\n",
    "import matplotlib.pyplot as plt\n",
    "\n",
    "from sklearn.model_selection import train_test_split\n",
    "\n",
    "from graphviz import render"
   ]
  },
  {
   "cell_type": "code",
   "execution_count": 2,
   "id": "31d7e7de",
   "metadata": {},
   "outputs": [
    {
     "data": {
      "text/plain": [
       "(395, 33)"
      ]
     },
     "execution_count": 2,
     "metadata": {},
     "output_type": "execute_result"
    }
   ],
   "source": [
    "# Importando o arquivo do dataset, gerando um DataFrame\n",
    "full_data = pd.read_csv('modelo_ajustado1.csv')\n",
    "full_data.shape"
   ]
  },
  {
   "cell_type": "code",
   "execution_count": 3,
   "id": "fd91f87e",
   "metadata": {},
   "outputs": [],
   "source": [
    "X = full_data.drop('G3', axis=1)\n",
    "y = full_data['G3']"
   ]
  },
  {
   "cell_type": "code",
   "execution_count": 4,
   "id": "fd5abf4f",
   "metadata": {},
   "outputs": [
    {
     "name": "stdout",
     "output_type": "stream",
     "text": [
      "(395, 32)\n",
      "(395,)\n"
     ]
    }
   ],
   "source": [
    "print(X.shape)\n",
    "print(y.shape)"
   ]
  },
  {
   "cell_type": "code",
   "execution_count": 5,
   "id": "6ad523e7",
   "metadata": {},
   "outputs": [
    {
     "data": {
      "text/plain": [
       "DecisionTreeRegressor()"
      ]
     },
     "execution_count": 5,
     "metadata": {},
     "output_type": "execute_result"
    }
   ],
   "source": [
    "regr_1 = DecisionTreeRegressor()\n",
    "regr_1.fit(X, y)"
   ]
  },
  {
   "cell_type": "code",
   "execution_count": 6,
   "id": "baf6b0a6",
   "metadata": {},
   "outputs": [],
   "source": [
    "y_pred = regr_1.predict(X)"
   ]
  },
  {
   "cell_type": "code",
   "execution_count": 7,
   "id": "197ce514",
   "metadata": {},
   "outputs": [
    {
     "data": {
      "text/plain": [
       "array([ 6.,  6., 10., 15., 10., 15., 11.,  6., 19., 15.,  9., 12., 14.,\n",
       "       11., 16., 14., 14., 10.,  5., 10., 15., 15., 16., 12.,  8.,  8.,\n",
       "       11., 15., 11., 11., 12., 17., 16., 12., 15.,  6., 18., 15., 11.,\n",
       "       13., 11., 12., 18., 11.,  9.,  6., 11., 20., 14.,  7., 13., 13.,\n",
       "       10., 11., 13., 10., 15., 15.,  9., 16., 11., 11.,  9.,  9., 10.,\n",
       "       15., 12.,  6.,  8., 16., 15., 10.,  5., 14., 11., 10., 10., 11.,\n",
       "       10.,  5., 12., 11.,  6., 15., 10.,  8.,  6., 14., 10.,  7.,  8.,\n",
       "       18.,  6., 10., 14., 10., 15., 10., 14.,  8.,  5., 17., 14.,  6.,\n",
       "       18., 11.,  8., 18., 13., 16., 19., 10., 13., 19.,  9., 16., 14.,\n",
       "       13.,  8., 13., 15., 15., 13., 13.,  8., 12., 11.,  9.,  0., 18.,\n",
       "        0.,  0., 12., 11.,  0.,  0.,  0.,  0., 12., 15.,  0.,  9., 11.,\n",
       "       13.,  0., 11.,  0., 11.,  0., 10.,  0., 14., 10.,  0., 12.,  8.,\n",
       "       13., 10., 15., 12.,  0.,  7.,  0., 10.,  7., 12., 10., 16.,  0.,\n",
       "       14.,  0., 16., 10.,  0.,  9.,  9., 11.,  6.,  9., 11.,  8., 12.,\n",
       "       17.,  8., 12., 11., 11., 15.,  9., 10., 13.,  9.,  8., 10., 14.,\n",
       "       15., 16., 10., 18., 10., 16., 10., 10.,  6., 11.,  9.,  7., 13.,\n",
       "       10.,  7.,  8., 13., 14.,  8., 10., 15.,  4.,  8.,  8., 10.,  6.,\n",
       "        0., 17., 13., 14.,  7., 15., 12.,  9., 12., 14., 11.,  9., 13.,\n",
       "        6., 10., 13., 12., 11.,  0., 12., 12.,  0., 12.,  0., 18., 13.,\n",
       "        8.,  5., 15.,  8., 10.,  8.,  8., 12.,  8., 13., 11., 14.,  0.,\n",
       "       18.,  8., 12.,  9.,  0., 17., 10., 11., 10.,  0.,  9., 14., 11.,\n",
       "       14., 10., 12.,  9.,  9.,  8., 10.,  8., 10., 12., 10., 11., 11.,\n",
       "       19., 12., 14., 15., 11., 15., 13., 18., 14., 11.,  0.,  8., 14.,\n",
       "       16., 11., 10., 14., 18., 13., 12., 18.,  8., 12., 10.,  0., 13.,\n",
       "       11., 11., 13., 11.,  0.,  9., 10., 11., 13.,  9., 11., 15., 15.,\n",
       "       11., 16., 10.,  9., 14.,  8., 14.,  0.,  0.,  0., 15., 13.,  0.,\n",
       "       17., 10., 11.,  0., 15.,  0., 10., 14., 16.,  9., 15., 13.,  8.,\n",
       "       13.,  8.,  8., 11.,  9., 13., 11., 10., 16., 13., 12., 10., 15.,\n",
       "       12., 10., 13.,  0., 10., 11.,  9., 12., 11.,  5., 19., 10., 15.,\n",
       "       10., 15., 10., 14.,  7., 10.,  0.,  5., 10.,  6.,  0.,  8.,  0.,\n",
       "        9., 16.,  7., 10.,  9.])"
      ]
     },
     "execution_count": 7,
     "metadata": {},
     "output_type": "execute_result"
    }
   ],
   "source": [
    "y_pred"
   ]
  },
  {
   "cell_type": "code",
   "execution_count": 8,
   "id": "9dd5c708",
   "metadata": {},
   "outputs": [
    {
     "name": "stdout",
     "output_type": "stream",
     "text": [
      "1.0\n"
     ]
    }
   ],
   "source": [
    "from sklearn.metrics import r2_score\n",
    "print(r2_score(y, regr_1.predict(X)))"
   ]
  },
  {
   "cell_type": "code",
   "execution_count": 9,
   "id": "df41e75c",
   "metadata": {},
   "outputs": [
    {
     "data": {
      "text/plain": [
       "0.0"
      ]
     },
     "execution_count": 9,
     "metadata": {},
     "output_type": "execute_result"
    }
   ],
   "source": [
    "from sklearn.metrics import mean_absolute_error\n",
    "mean_absolute_error(y, y_pred)"
   ]
  },
  {
   "cell_type": "code",
   "execution_count": 10,
   "id": "b02fe2d8",
   "metadata": {},
   "outputs": [
    {
     "data": {
      "text/plain": [
       "DecisionTreeRegressor(max_depth=4)"
      ]
     },
     "execution_count": 10,
     "metadata": {},
     "output_type": "execute_result"
    }
   ],
   "source": [
    "regr_1 = DecisionTreeRegressor(max_depth=4)\n",
    "regr_1.fit(X, y)"
   ]
  },
  {
   "cell_type": "code",
   "execution_count": 11,
   "id": "1d4cc849",
   "metadata": {},
   "outputs": [],
   "source": [
    "y_pred = regr_1.predict(X)"
   ]
  },
  {
   "cell_type": "code",
   "execution_count": 12,
   "id": "233b7070",
   "metadata": {},
   "outputs": [
    {
     "data": {
      "text/plain": [
       "0.8844389978576451"
      ]
     },
     "execution_count": 12,
     "metadata": {},
     "output_type": "execute_result"
    }
   ],
   "source": [
    "mean_absolute_error(y, y_pred)"
   ]
  },
  {
   "cell_type": "markdown",
   "id": "6b0f27d8",
   "metadata": {},
   "source": [
    "# Treinamento e Teste"
   ]
  },
  {
   "cell_type": "code",
   "execution_count": 13,
   "id": "e225892e",
   "metadata": {},
   "outputs": [],
   "source": [
    "X_train, X_test, y_train, y_test = train_test_split(\n",
    "    X, y, test_size=0.20, random_state=32)"
   ]
  },
  {
   "cell_type": "code",
   "execution_count": 14,
   "id": "13f3355d",
   "metadata": {},
   "outputs": [
    {
     "name": "stdout",
     "output_type": "stream",
     "text": [
      "Treino e teste (X variáveis e y resposta):\n",
      ">> Treino X (316, 32)\n",
      ">> Treino y (316,)\n",
      ">> Teste X (79, 32)\n",
      ">> Teste y (79,)\n"
     ]
    }
   ],
   "source": [
    "print('Treino e teste (X variáveis e y resposta):'\n",
    "      '\\n>> Treino X {trainX}\\n>> Treino y {trainY}'\n",
    "      '\\n>> Teste X {testX}\\n>> Teste y {testY}'.format(trainX=X_train.shape,\n",
    "                                                        trainY=y_train.shape,\n",
    "                                                        testX=X_test.shape, \n",
    "                                                        testY=y_test.shape))"
   ]
  },
  {
   "cell_type": "code",
   "execution_count": 15,
   "id": "0f65b4a3",
   "metadata": {},
   "outputs": [],
   "source": [
    "regr_1 = DecisionTreeRegressor(max_depth=4)\n",
    "regr_1.fit(X_train, y_train)\n",
    "\n",
    "y_pred = regr_1.predict(X_test)"
   ]
  },
  {
   "cell_type": "code",
   "execution_count": 16,
   "id": "fdbb4853",
   "metadata": {},
   "outputs": [
    {
     "data": {
      "text/plain": [
       "0.9443235082860161"
      ]
     },
     "execution_count": 16,
     "metadata": {},
     "output_type": "execute_result"
    }
   ],
   "source": [
    "mean_absolute_error(y_test, y_pred)"
   ]
  },
  {
   "cell_type": "code",
   "execution_count": 17,
   "id": "ba979b34",
   "metadata": {},
   "outputs": [
    {
     "data": {
      "text/plain": [
       "'tree.dot.png'"
      ]
     },
     "execution_count": 17,
     "metadata": {},
     "output_type": "execute_result"
    }
   ],
   "source": [
    "from sklearn.tree import export_graphviz\n",
    "export_graphviz(regr_1, out_file='tree.dot')\n",
    "\n",
    "render('dot', 'png', 'tree.dot')"
   ]
  },
  {
   "cell_type": "code",
   "execution_count": 18,
   "id": "7e4212e9",
   "metadata": {},
   "outputs": [
    {
     "data": {
      "image/png": "[encoded data removed]",
      "text/plain": [
       "<Figure size 864x864 with 1 Axes>"
      ]
     },
     "metadata": {
      "needs_background": "light"
     },
     "output_type": "display_data"
    }
   ],
   "source": [
    "from sklearn import tree\n",
    "\n",
    "# plotando árvore\n",
    "plt.figure(figsize=(12,12))\n",
    "tree.plot_tree(regr_1, fontsize=8)\n",
    "plt.show()"
   ]
  },
  {
   "cell_type": "code",
   "execution_count": 19,
   "id": "dfd4cc81",
   "metadata": {},
   "outputs": [
    {
     "data": {
      "text/html": [
       "<div>\n",
       "<style scoped>\n",
       "    .dataframe tbody tr th:only-of-type {\n",
       "        vertical-align: middle;\n",
       "    }\n",
       "\n",
       "    .dataframe tbody tr th {\n",
       "        vertical-align: top;\n",
       "    }\n",
       "\n",
       "    .dataframe thead th {\n",
       "        text-align: right;\n",
       "    }\n",
       "</style>\n",
       "<table border=\"1\" class=\"dataframe\">\n",
       "  <thead>\n",
       "    <tr style=\"text-align: right;\">\n",
       "      <th></th>\n",
       "      <th>escola</th>\n",
       "      <th>sexo</th>\n",
       "      <th>idade</th>\n",
       "      <th>tipo_moradia</th>\n",
       "      <th>tamanho_familia</th>\n",
       "      <th>stat_casamento_pais</th>\n",
       "      <th>edu_mae</th>\n",
       "      <th>edu_pai</th>\n",
       "      <th>trabalho_mae</th>\n",
       "      <th>trabalho_pai</th>\n",
       "      <th>...</th>\n",
       "      <th>relacionamento</th>\n",
       "      <th>relacao_familia</th>\n",
       "      <th>tempo_livre</th>\n",
       "      <th>sair_amigos</th>\n",
       "      <th>consumo_alcool_semana</th>\n",
       "      <th>consumo_alcool_fds</th>\n",
       "      <th>saude_atual</th>\n",
       "      <th>faltas</th>\n",
       "      <th>G1</th>\n",
       "      <th>G2</th>\n",
       "    </tr>\n",
       "  </thead>\n",
       "  <tbody>\n",
       "    <tr>\n",
       "      <th>0</th>\n",
       "      <td>0</td>\n",
       "      <td>0</td>\n",
       "      <td>18</td>\n",
       "      <td>1</td>\n",
       "      <td>0</td>\n",
       "      <td>0</td>\n",
       "      <td>4</td>\n",
       "      <td>4</td>\n",
       "      <td>0</td>\n",
       "      <td>4</td>\n",
       "      <td>...</td>\n",
       "      <td>0</td>\n",
       "      <td>4</td>\n",
       "      <td>3</td>\n",
       "      <td>4</td>\n",
       "      <td>1</td>\n",
       "      <td>1</td>\n",
       "      <td>3</td>\n",
       "      <td>6</td>\n",
       "      <td>5</td>\n",
       "      <td>6</td>\n",
       "    </tr>\n",
       "    <tr>\n",
       "      <th>1</th>\n",
       "      <td>0</td>\n",
       "      <td>0</td>\n",
       "      <td>17</td>\n",
       "      <td>1</td>\n",
       "      <td>0</td>\n",
       "      <td>1</td>\n",
       "      <td>1</td>\n",
       "      <td>1</td>\n",
       "      <td>0</td>\n",
       "      <td>2</td>\n",
       "      <td>...</td>\n",
       "      <td>0</td>\n",
       "      <td>5</td>\n",
       "      <td>3</td>\n",
       "      <td>3</td>\n",
       "      <td>1</td>\n",
       "      <td>1</td>\n",
       "      <td>3</td>\n",
       "      <td>4</td>\n",
       "      <td>5</td>\n",
       "      <td>5</td>\n",
       "    </tr>\n",
       "    <tr>\n",
       "      <th>2</th>\n",
       "      <td>0</td>\n",
       "      <td>0</td>\n",
       "      <td>15</td>\n",
       "      <td>1</td>\n",
       "      <td>1</td>\n",
       "      <td>1</td>\n",
       "      <td>1</td>\n",
       "      <td>1</td>\n",
       "      <td>0</td>\n",
       "      <td>2</td>\n",
       "      <td>...</td>\n",
       "      <td>0</td>\n",
       "      <td>4</td>\n",
       "      <td>3</td>\n",
       "      <td>2</td>\n",
       "      <td>2</td>\n",
       "      <td>3</td>\n",
       "      <td>3</td>\n",
       "      <td>10</td>\n",
       "      <td>7</td>\n",
       "      <td>8</td>\n",
       "    </tr>\n",
       "    <tr>\n",
       "      <th>3</th>\n",
       "      <td>0</td>\n",
       "      <td>0</td>\n",
       "      <td>15</td>\n",
       "      <td>1</td>\n",
       "      <td>0</td>\n",
       "      <td>1</td>\n",
       "      <td>4</td>\n",
       "      <td>2</td>\n",
       "      <td>1</td>\n",
       "      <td>3</td>\n",
       "      <td>...</td>\n",
       "      <td>1</td>\n",
       "      <td>3</td>\n",
       "      <td>2</td>\n",
       "      <td>2</td>\n",
       "      <td>1</td>\n",
       "      <td>1</td>\n",
       "      <td>5</td>\n",
       "      <td>2</td>\n",
       "      <td>15</td>\n",
       "      <td>14</td>\n",
       "    </tr>\n",
       "    <tr>\n",
       "      <th>4</th>\n",
       "      <td>0</td>\n",
       "      <td>0</td>\n",
       "      <td>16</td>\n",
       "      <td>1</td>\n",
       "      <td>0</td>\n",
       "      <td>1</td>\n",
       "      <td>3</td>\n",
       "      <td>3</td>\n",
       "      <td>2</td>\n",
       "      <td>2</td>\n",
       "      <td>...</td>\n",
       "      <td>0</td>\n",
       "      <td>4</td>\n",
       "      <td>3</td>\n",
       "      <td>2</td>\n",
       "      <td>1</td>\n",
       "      <td>2</td>\n",
       "      <td>5</td>\n",
       "      <td>4</td>\n",
       "      <td>6</td>\n",
       "      <td>10</td>\n",
       "    </tr>\n",
       "    <tr>\n",
       "      <th>...</th>\n",
       "      <td>...</td>\n",
       "      <td>...</td>\n",
       "      <td>...</td>\n",
       "      <td>...</td>\n",
       "      <td>...</td>\n",
       "      <td>...</td>\n",
       "      <td>...</td>\n",
       "      <td>...</td>\n",
       "      <td>...</td>\n",
       "      <td>...</td>\n",
       "      <td>...</td>\n",
       "      <td>...</td>\n",
       "      <td>...</td>\n",
       "      <td>...</td>\n",
       "      <td>...</td>\n",
       "      <td>...</td>\n",
       "      <td>...</td>\n",
       "      <td>...</td>\n",
       "      <td>...</td>\n",
       "      <td>...</td>\n",
       "      <td>...</td>\n",
       "    </tr>\n",
       "    <tr>\n",
       "      <th>390</th>\n",
       "      <td>1</td>\n",
       "      <td>1</td>\n",
       "      <td>20</td>\n",
       "      <td>1</td>\n",
       "      <td>1</td>\n",
       "      <td>0</td>\n",
       "      <td>2</td>\n",
       "      <td>2</td>\n",
       "      <td>3</td>\n",
       "      <td>3</td>\n",
       "      <td>...</td>\n",
       "      <td>0</td>\n",
       "      <td>5</td>\n",
       "      <td>5</td>\n",
       "      <td>4</td>\n",
       "      <td>4</td>\n",
       "      <td>5</td>\n",
       "      <td>4</td>\n",
       "      <td>11</td>\n",
       "      <td>9</td>\n",
       "      <td>9</td>\n",
       "    </tr>\n",
       "    <tr>\n",
       "      <th>391</th>\n",
       "      <td>1</td>\n",
       "      <td>1</td>\n",
       "      <td>17</td>\n",
       "      <td>1</td>\n",
       "      <td>1</td>\n",
       "      <td>1</td>\n",
       "      <td>3</td>\n",
       "      <td>1</td>\n",
       "      <td>3</td>\n",
       "      <td>3</td>\n",
       "      <td>...</td>\n",
       "      <td>0</td>\n",
       "      <td>2</td>\n",
       "      <td>4</td>\n",
       "      <td>5</td>\n",
       "      <td>3</td>\n",
       "      <td>4</td>\n",
       "      <td>2</td>\n",
       "      <td>3</td>\n",
       "      <td>14</td>\n",
       "      <td>16</td>\n",
       "    </tr>\n",
       "    <tr>\n",
       "      <th>392</th>\n",
       "      <td>1</td>\n",
       "      <td>1</td>\n",
       "      <td>21</td>\n",
       "      <td>0</td>\n",
       "      <td>0</td>\n",
       "      <td>1</td>\n",
       "      <td>1</td>\n",
       "      <td>1</td>\n",
       "      <td>2</td>\n",
       "      <td>2</td>\n",
       "      <td>...</td>\n",
       "      <td>0</td>\n",
       "      <td>5</td>\n",
       "      <td>5</td>\n",
       "      <td>3</td>\n",
       "      <td>3</td>\n",
       "      <td>3</td>\n",
       "      <td>3</td>\n",
       "      <td>3</td>\n",
       "      <td>10</td>\n",
       "      <td>8</td>\n",
       "    </tr>\n",
       "    <tr>\n",
       "      <th>393</th>\n",
       "      <td>1</td>\n",
       "      <td>1</td>\n",
       "      <td>18</td>\n",
       "      <td>0</td>\n",
       "      <td>1</td>\n",
       "      <td>1</td>\n",
       "      <td>3</td>\n",
       "      <td>2</td>\n",
       "      <td>3</td>\n",
       "      <td>2</td>\n",
       "      <td>...</td>\n",
       "      <td>0</td>\n",
       "      <td>4</td>\n",
       "      <td>4</td>\n",
       "      <td>1</td>\n",
       "      <td>3</td>\n",
       "      <td>4</td>\n",
       "      <td>5</td>\n",
       "      <td>0</td>\n",
       "      <td>11</td>\n",
       "      <td>12</td>\n",
       "    </tr>\n",
       "    <tr>\n",
       "      <th>394</th>\n",
       "      <td>1</td>\n",
       "      <td>1</td>\n",
       "      <td>19</td>\n",
       "      <td>1</td>\n",
       "      <td>1</td>\n",
       "      <td>1</td>\n",
       "      <td>1</td>\n",
       "      <td>1</td>\n",
       "      <td>2</td>\n",
       "      <td>0</td>\n",
       "      <td>...</td>\n",
       "      <td>0</td>\n",
       "      <td>3</td>\n",
       "      <td>2</td>\n",
       "      <td>3</td>\n",
       "      <td>3</td>\n",
       "      <td>3</td>\n",
       "      <td>5</td>\n",
       "      <td>5</td>\n",
       "      <td>8</td>\n",
       "      <td>9</td>\n",
       "    </tr>\n",
       "  </tbody>\n",
       "</table>\n",
       "<p>395 rows × 32 columns</p>\n",
       "</div>"
      ],
      "text/plain": [
       "     escola  sexo  idade  tipo_moradia  tamanho_familia  stat_casamento_pais  \\\n",
       "0         0     0     18             1                0                    0   \n",
       "1         0     0     17             1                0                    1   \n",
       "2         0     0     15             1                1                    1   \n",
       "3         0     0     15             1                0                    1   \n",
       "4         0     0     16             1                0                    1   \n",
       "..      ...   ...    ...           ...              ...                  ...   \n",
       "390       1     1     20             1                1                    0   \n",
       "391       1     1     17             1                1                    1   \n",
       "392       1     1     21             0                0                    1   \n",
       "393       1     1     18             0                1                    1   \n",
       "394       1     1     19             1                1                    1   \n",
       "\n",
       "     edu_mae  edu_pai  trabalho_mae  trabalho_pai  ...  relacionamento  \\\n",
       "0          4        4             0             4  ...               0   \n",
       "1          1        1             0             2  ...               0   \n",
       "2          1        1             0             2  ...               0   \n",
       "3          4        2             1             3  ...               1   \n",
       "4          3        3             2             2  ...               0   \n",
       "..       ...      ...           ...           ...  ...             ...   \n",
       "390        2        2             3             3  ...               0   \n",
       "391        3        1             3             3  ...               0   \n",
       "392        1        1             2             2  ...               0   \n",
       "393        3        2             3             2  ...               0   \n",
       "394        1        1             2             0  ...               0   \n",
       "\n",
       "     relacao_familia  tempo_livre  sair_amigos  consumo_alcool_semana  \\\n",
       "0                  4            3            4                      1   \n",
       "1                  5            3            3                      1   \n",
       "2                  4            3            2                      2   \n",
       "3                  3            2            2                      1   \n",
       "4                  4            3            2                      1   \n",
       "..               ...          ...          ...                    ...   \n",
       "390                5            5            4                      4   \n",
       "391                2            4            5                      3   \n",
       "392                5            5            3                      3   \n",
       "393                4            4            1                      3   \n",
       "394                3            2            3                      3   \n",
       "\n",
       "     consumo_alcool_fds  saude_atual  faltas  G1  G2  \n",
       "0                     1            3       6   5   6  \n",
       "1                     1            3       4   5   5  \n",
       "2                     3            3      10   7   8  \n",
       "3                     1            5       2  15  14  \n",
       "4                     2            5       4   6  10  \n",
       "..                  ...          ...     ...  ..  ..  \n",
       "390                   5            4      11   9   9  \n",
       "391                   4            2       3  14  16  \n",
       "392                   3            3       3  10   8  \n",
       "393                   4            5       0  11  12  \n",
       "394                   3            5       5   8   9  \n",
       "\n",
       "[395 rows x 32 columns]"
      ]
     },
     "execution_count": 19,
     "metadata": {},
     "output_type": "execute_result"
    }
   ],
   "source": [
    "X"
   ]
  },
  {
   "cell_type": "markdown",
   "id": "4493f800",
   "metadata": {},
   "source": [
    "# Importância das variáveis"
   ]
  },
  {
   "cell_type": "code",
   "execution_count": 20,
   "id": "93559e62",
   "metadata": {},
   "outputs": [],
   "source": [
    "from matplotlib import pyplot"
   ]
  },
  {
   "cell_type": "code",
   "execution_count": 21,
   "id": "3b8f9aaa",
   "metadata": {},
   "outputs": [
    {
     "name": "stdout",
     "output_type": "stream",
     "text": [
      "Feature: 0, Score: 0.00000\n",
      "Feature: 1, Score: 0.00000\n",
      "Feature: 2, Score: 0.03904\n",
      "Feature: 3, Score: 0.00000\n",
      "Feature: 4, Score: 0.00000\n",
      "Feature: 5, Score: 0.00000\n",
      "Feature: 6, Score: 0.00000\n",
      "Feature: 7, Score: 0.00000\n",
      "Feature: 8, Score: 0.00000\n",
      "Feature: 9, Score: 0.00000\n",
      "Feature: 10, Score: 0.00000\n",
      "Feature: 11, Score: 0.00000\n",
      "Feature: 12, Score: 0.00000\n",
      "Feature: 13, Score: 0.00000\n",
      "Feature: 14, Score: 0.00000\n",
      "Feature: 15, Score: 0.00000\n",
      "Feature: 16, Score: 0.00000\n",
      "Feature: 17, Score: 0.00000\n",
      "Feature: 18, Score: 0.00000\n",
      "Feature: 19, Score: 0.00000\n",
      "Feature: 20, Score: 0.00000\n",
      "Feature: 21, Score: 0.00000\n",
      "Feature: 22, Score: 0.00000\n",
      "Feature: 23, Score: 0.00000\n",
      "Feature: 24, Score: 0.00000\n",
      "Feature: 25, Score: 0.00000\n",
      "Feature: 26, Score: 0.00000\n",
      "Feature: 27, Score: 0.00118\n",
      "Feature: 28, Score: 0.00000\n",
      "Feature: 29, Score: 0.09087\n",
      "Feature: 30, Score: 0.00000\n",
      "Feature: 31, Score: 0.86892\n"
     ]
    }
   ],
   "source": [
    "importance = regr_1.feature_importances_\n",
    "\n",
    "# summarize feature importance\n",
    "for i,v in enumerate(importance):\n",
    "    print('Feature: %0d, Score: %.5f' % (i,v))"
   ]
  },
  {
   "cell_type": "code",
   "execution_count": 22,
   "id": "e3a304c1",
   "metadata": {},
   "outputs": [
    {
     "data": {
      "text/plain": [
       "array([0.        , 0.        , 0.03903726, 0.        , 0.        ,\n",
       "       0.        , 0.        , 0.        , 0.        , 0.        ,\n",
       "       0.        , 0.        , 0.        , 0.        , 0.        ,\n",
       "       0.        , 0.        , 0.        , 0.        , 0.        ,\n",
       "       0.        , 0.        , 0.        , 0.        , 0.        ,\n",
       "       0.        , 0.        , 0.0011782 , 0.        , 0.09086736,\n",
       "       0.        , 0.86891718])"
      ]
     },
     "execution_count": 22,
     "metadata": {},
     "output_type": "execute_result"
    }
   ],
   "source": [
    "importance"
   ]
  },
  {
   "cell_type": "code",
   "execution_count": 23,
   "id": "c4e201a0",
   "metadata": {},
   "outputs": [],
   "source": [
    "features_n = X.columns"
   ]
  },
  {
   "cell_type": "code",
   "execution_count": 24,
   "id": "11062f0f",
   "metadata": {},
   "outputs": [
    {
     "data": {
      "image/png": "[encoded data removed]",
      "text/plain": [
       "<Figure size 432x288 with 1 Axes>"
      ]
     },
     "metadata": {
      "needs_background": "light"
     },
     "output_type": "display_data"
    }
   ],
   "source": [
    "# plot feature importance\n",
    "pyplot.bar([x for x in range(len(importance))], importance)\n",
    "pyplot.xticks([x for x in range(len(importance))], features_n, rotation='vertical')\n",
    "pyplot.show()"
   ]
  },
  {
   "cell_type": "markdown",
   "id": "58d58ef8",
   "metadata": {},
   "source": [
    "# Análise dos Resultados"
   ]
  },
  {
   "cell_type": "code",
   "execution_count": null,
   "id": "cbc72cbe",
   "metadata": {},
   "outputs": [],
   "source": []
  }
 ],
 "metadata": {
  "kernelspec": {
   "display_name": "Python 3",
   "language": "python",
   "name": "python3"
  },
  "language_info": {
   "codemirror_mode": {
    "name": "ipython",
    "version": 3
   },
   "file_extension": ".py",
   "mimetype": "text/x-python",
   "name": "python",
   "nbconvert_exporter": "python",
   "pygments_lexer": "ipython3",
   "version": "3.8.5"
  }
 },
 "nbformat": 4,
 "nbformat_minor": 5
}
